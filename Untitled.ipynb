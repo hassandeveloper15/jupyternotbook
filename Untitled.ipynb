{
  "metadata": {
    "language_info": {
      "codemirror_mode": {
        "name": "python",
        "version": 3
      },
      "file_extension": ".py",
      "mimetype": "text/x-python",
      "name": "python",
      "nbconvert_exporter": "python",
      "pygments_lexer": "ipython3",
      "version": "3.8"
    },
    "kernelspec": {
      "name": "python",
      "display_name": "Python (Pyodide)",
      "language": "python"
    }
  },
  "nbformat_minor": 4,
  "nbformat": 4,
  "cells": [
    {
      "cell_type": "markdown",
      "source": "# Data Science Tools and Ecosystem",
      "metadata": {}
    },
    {
      "cell_type": "markdown",
      "source": "In this notebook, Data science tools and ecosystem is summarized",
      "metadata": {}
    },
    {
      "cell_type": "markdown",
      "source": "Some of the popular languages that data scientist use are\n1.Python\n2.SQL\n3.R",
      "metadata": {}
    },
    {
      "cell_type": "markdown",
      "source": "Some of the common used libraries used by data scientists are:\n1.Pandas\n2.scikit-learn\n3.ggplot2\n",
      "metadata": {}
    },
    {
      "cell_type": "markdown",
      "source": "Data Science tools are:\n1.Jupyter\n2.apache zeppelin\n3.R Studio",
      "metadata": {}
    },
    {
      "cell_type": "markdown",
      "source": "# Below are few examples of arithmetic expressions",
      "metadata": {}
    },
    {
      "cell_type": "code",
      "source": "(5*2)+3",
      "metadata": {
        "trusted": true
      },
      "execution_count": 3,
      "outputs": [
        {
          "execution_count": 3,
          "output_type": "execute_result",
          "data": {
            "text/plain": "13"
          },
          "metadata": {}
        }
      ]
    },
    {
      "cell_type": "code",
      "source": "# Convert minutes to hours\nminutes = 125\nhours = minutes / 60\n\nprint(\"Minutes:\", minutes)\nprint(\"Hours:\", hours)\n",
      "metadata": {
        "trusted": true
      },
      "execution_count": 4,
      "outputs": [
        {
          "name": "stdout",
          "text": "Minutes: 125\nHours: 2.0833333333333335\n",
          "output_type": "stream"
        }
      ]
    },
    {
      "cell_type": "markdown",
      "source": "# Objectives",
      "metadata": {}
    },
    {
      "cell_type": "markdown",
      "source": "# AUTHOR\nsteven renshaw",
      "metadata": {}
    }
  ]
}